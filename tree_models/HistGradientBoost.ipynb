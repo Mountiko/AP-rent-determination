{
 "cells": [
  {
   "cell_type": "code",
   "execution_count": 1,
   "metadata": {},
   "outputs": [],
   "source": [
    "# Imports\n",
    "import sys\n",
    "import pandas as pd\n",
    "import numpy as np\n",
    "import matplotlib.pyplot as plt\n",
    "from sklearn.model_selection import train_test_split\n",
    "from sklearn.model_selection import GridSearchCV\n",
    "from sklearn.model_selection import RandomizedSearchCV\n",
    "from sklearn.ensemble import HistGradientBoostingRegressor\n",
    "sys.path.insert(1, r'C:\\Users\\soube\\OneDrive\\Desktop\\Hammudi\\Bachelorarbeit\\Repository\\AP-rent-determination\\tree_models\\tree_model_functions.py')"
   ]
  },
  {
   "cell_type": "code",
   "execution_count": 2,
   "metadata": {},
   "outputs": [],
   "source": [
    "pd.set_option('display.max_rows', None)\n",
    "pd.set_option('display.max_columns', None)"
   ]
  },
  {
   "cell_type": "code",
   "execution_count": 3,
   "metadata": {},
   "outputs": [],
   "source": [
    "# Selecting the DataSource\n",
    "dataSource = r\"C:\\Users\\soube\\OneDrive\\Desktop\\Hammudi\\Bachelorarbeit\\Repository\\AP-rent-determination\\immonet_data\\cleaned_data_without_NaN.csv\"\n",
    "\n",
    "# Selecting columns to drop out of featureList and creating LabelList\n",
    "featureDropList = [\"_id\", \"observationDate\", \"state\", \"city\", \"AP_community\", \"base_rent\"]\n",
    "LabelList = [\"base_rent\"]\n",
    "\n",
    "# Create DataFrame from DataSource\n",
    "dataframe = pd.read_csv(dataSource)\n",
    "\n",
    "# Create list of unique states\n",
    "states = dataframe[\"state\"].unique()\n",
    "\n",
    "# Create list for model scores\n",
    "state_prediction_score = []\n",
    "\n",
    "# Create list for most important features\n",
    "feature_importances = []"
   ]
  },
  {
   "cell_type": "code",
   "execution_count": 4,
   "metadata": {},
   "outputs": [
    {
     "name": "stderr",
     "output_type": "stream",
     "text": [
      "c:\\Users\\soube\\AppData\\Local\\Programs\\Python\\Python39\\lib\\site-packages\\sklearn\\utils\\validation.py:1111: DataConversionWarning: A column-vector y was passed when a 1d array was expected. Please change the shape of y to (n_samples, ), for example using ravel().\n",
      "  y = column_or_1d(y, warn=True)\n",
      "c:\\Users\\soube\\AppData\\Local\\Programs\\Python\\Python39\\lib\\site-packages\\sklearn\\utils\\validation.py:1111: DataConversionWarning: A column-vector y was passed when a 1d array was expected. Please change the shape of y to (n_samples, ), for example using ravel().\n",
      "  y = column_or_1d(y, warn=True)\n",
      "c:\\Users\\soube\\AppData\\Local\\Programs\\Python\\Python39\\lib\\site-packages\\sklearn\\utils\\validation.py:1111: DataConversionWarning: A column-vector y was passed when a 1d array was expected. Please change the shape of y to (n_samples, ), for example using ravel().\n",
      "  y = column_or_1d(y, warn=True)\n",
      "c:\\Users\\soube\\AppData\\Local\\Programs\\Python\\Python39\\lib\\site-packages\\sklearn\\utils\\validation.py:1111: DataConversionWarning: A column-vector y was passed when a 1d array was expected. Please change the shape of y to (n_samples, ), for example using ravel().\n",
      "  y = column_or_1d(y, warn=True)\n",
      "c:\\Users\\soube\\AppData\\Local\\Programs\\Python\\Python39\\lib\\site-packages\\sklearn\\utils\\validation.py:1111: DataConversionWarning: A column-vector y was passed when a 1d array was expected. Please change the shape of y to (n_samples, ), for example using ravel().\n",
      "  y = column_or_1d(y, warn=True)\n",
      "c:\\Users\\soube\\AppData\\Local\\Programs\\Python\\Python39\\lib\\site-packages\\sklearn\\utils\\validation.py:1111: DataConversionWarning: A column-vector y was passed when a 1d array was expected. Please change the shape of y to (n_samples, ), for example using ravel().\n",
      "  y = column_or_1d(y, warn=True)\n",
      "c:\\Users\\soube\\AppData\\Local\\Programs\\Python\\Python39\\lib\\site-packages\\sklearn\\utils\\validation.py:1111: DataConversionWarning: A column-vector y was passed when a 1d array was expected. Please change the shape of y to (n_samples, ), for example using ravel().\n",
      "  y = column_or_1d(y, warn=True)\n",
      "c:\\Users\\soube\\AppData\\Local\\Programs\\Python\\Python39\\lib\\site-packages\\sklearn\\utils\\validation.py:1111: DataConversionWarning: A column-vector y was passed when a 1d array was expected. Please change the shape of y to (n_samples, ), for example using ravel().\n",
      "  y = column_or_1d(y, warn=True)\n",
      "c:\\Users\\soube\\AppData\\Local\\Programs\\Python\\Python39\\lib\\site-packages\\sklearn\\utils\\validation.py:1111: DataConversionWarning: A column-vector y was passed when a 1d array was expected. Please change the shape of y to (n_samples, ), for example using ravel().\n",
      "  y = column_or_1d(y, warn=True)\n",
      "c:\\Users\\soube\\AppData\\Local\\Programs\\Python\\Python39\\lib\\site-packages\\sklearn\\utils\\validation.py:1111: DataConversionWarning: A column-vector y was passed when a 1d array was expected. Please change the shape of y to (n_samples, ), for example using ravel().\n",
      "  y = column_or_1d(y, warn=True)\n",
      "c:\\Users\\soube\\AppData\\Local\\Programs\\Python\\Python39\\lib\\site-packages\\sklearn\\utils\\validation.py:1111: DataConversionWarning: A column-vector y was passed when a 1d array was expected. Please change the shape of y to (n_samples, ), for example using ravel().\n",
      "  y = column_or_1d(y, warn=True)\n",
      "c:\\Users\\soube\\AppData\\Local\\Programs\\Python\\Python39\\lib\\site-packages\\sklearn\\utils\\validation.py:1111: DataConversionWarning: A column-vector y was passed when a 1d array was expected. Please change the shape of y to (n_samples, ), for example using ravel().\n",
      "  y = column_or_1d(y, warn=True)\n",
      "c:\\Users\\soube\\AppData\\Local\\Programs\\Python\\Python39\\lib\\site-packages\\sklearn\\utils\\validation.py:1111: DataConversionWarning: A column-vector y was passed when a 1d array was expected. Please change the shape of y to (n_samples, ), for example using ravel().\n",
      "  y = column_or_1d(y, warn=True)\n",
      "c:\\Users\\soube\\AppData\\Local\\Programs\\Python\\Python39\\lib\\site-packages\\sklearn\\utils\\validation.py:1111: DataConversionWarning: A column-vector y was passed when a 1d array was expected. Please change the shape of y to (n_samples, ), for example using ravel().\n",
      "  y = column_or_1d(y, warn=True)\n",
      "c:\\Users\\soube\\AppData\\Local\\Programs\\Python\\Python39\\lib\\site-packages\\sklearn\\utils\\validation.py:1111: DataConversionWarning: A column-vector y was passed when a 1d array was expected. Please change the shape of y to (n_samples, ), for example using ravel().\n",
      "  y = column_or_1d(y, warn=True)\n",
      "c:\\Users\\soube\\AppData\\Local\\Programs\\Python\\Python39\\lib\\site-packages\\sklearn\\utils\\validation.py:1111: DataConversionWarning: A column-vector y was passed when a 1d array was expected. Please change the shape of y to (n_samples, ), for example using ravel().\n",
      "  y = column_or_1d(y, warn=True)\n"
     ]
    }
   ],
   "source": [
    "# Loop throug all states to train them seperately\n",
    "for state in states:\n",
    "    df = dataframe\n",
    "    df = df[df[\"state\"]  == state]\n",
    "\n",
    "    # Create feature and label lists\n",
    "    y = df[LabelList]\n",
    "    X = df.drop(featureDropList, axis = 1)\n",
    "    feature_list = list(X.columns)\n",
    "\n",
    "    y = np.array(y)\n",
    "    X = np.array(X)\n",
    "\n",
    "    # Train test split\n",
    "    X_train, X_test, y_train, y_test = train_test_split(X, y, test_size = 0.20, random_state = 0)\n",
    "\n",
    "    # Instantiate model\n",
    "    hgbr = HistGradientBoostingRegressor(random_state=0)\n",
    "\n",
    "    # Train the model on training data\n",
    "    hgbr.fit(X_train, y_train)\n",
    "\n",
    "    # Use the Regressors's predict method on the test data\n",
    "    predictions = hgbr.predict(X_test)\n",
    "\n",
    "    # Calculate the absolute errors\n",
    "    errors = abs(predictions - y_test)\n",
    "\n",
    "    # Print out the mean absolute error (mae)\n",
    "    #print('Average model error:', round(np.mean(errors), 2), 'euros.')\n",
    "    \n",
    "    # Calculate relative prediction errors\n",
    "    errors = [100 * (abs(predictions[i] - y_test[i])/ y_test[i]) for i in range(min(len(predictions), len(y_test)))]\n",
    "\n",
    "    # Count of predictions that are at least 10% accurate\n",
    "    count_good_predictions = sum(1 for i in errors if i <= 10)\n",
    "\n",
    "    # Proportion of good predictions for the Testset\n",
    "    good_predictions = round(np.mean(100 * (count_good_predictions / len(errors))), 2)\n",
    "    #print('Percentage of predictions with less than 10 % deviation: ', good_predictions, '%.')\n",
    "\n",
    "    # Hier muss Code für die importances stehen\n",
    "    ##########\n",
    "    \n",
    "    state_prediction_score.append([state, good_predictions])"
   ]
  },
  {
   "cell_type": "code",
   "execution_count": 5,
   "metadata": {},
   "outputs": [
    {
     "name": "stdout",
     "output_type": "stream",
     "text": [
      "[['Schleswig-Holstein', 77.85], ['Bremen', 58.43], ['Hessen', 68.86], ['Hamburg', 76.68], ['Nordrhein-Westfalen', 62.49], ['Baden-Württemberg', 58.95], ['Bayern', 65.01], ['Thüringen', 66.61], ['Mecklenburg-Vorpommern', 70.5], ['Sachsen', 70.46], ['Brandenburg', 66.78], ['Berlin', 72.93], ['Saarland', 60.58], ['Sachsen-Anhalt', 68.94], ['Niedersachsen', 69.89], ['Rheinland-Pfalz', 59.51]]\n"
     ]
    }
   ],
   "source": [
    "print(state_prediction_score)"
   ]
  },
  {
   "cell_type": "code",
   "execution_count": 6,
   "metadata": {},
   "outputs": [
    {
     "name": "stdout",
     "output_type": "stream",
     "text": [
      "Model score : 67.154375 %\n"
     ]
    }
   ],
   "source": [
    "# Convert state_prediction_score list into DataFrame\n",
    "state_prediction_df = pd.DataFrame(state_prediction_score, columns = [\"state\", \"score\"])\n",
    "# Calculate the average score of the model\n",
    "prediction_score = state_prediction_df[\"score\"].mean()\n",
    "print(\"Model score :\", prediction_score, \"%\")"
   ]
  },
  {
   "cell_type": "markdown",
   "metadata": {},
   "source": [
    "### Get rid of unnnecessary Variables ###"
   ]
  }
 ],
 "metadata": {
  "kernelspec": {
   "display_name": "Python 3.9.13 64-bit",
   "language": "python",
   "name": "python3"
  },
  "language_info": {
   "codemirror_mode": {
    "name": "ipython",
    "version": 3
   },
   "file_extension": ".py",
   "mimetype": "text/x-python",
   "name": "python",
   "nbconvert_exporter": "python",
   "pygments_lexer": "ipython3",
   "version": "3.9.13"
  },
  "orig_nbformat": 4,
  "vscode": {
   "interpreter": {
    "hash": "2ee4b56c58f6d37e4778d9818fb4820583e8ad76b15ea0907f514be591be9833"
   }
  }
 },
 "nbformat": 4,
 "nbformat_minor": 2
}
