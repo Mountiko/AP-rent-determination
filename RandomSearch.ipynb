{
 "cells": [
  {
   "cell_type": "code",
   "execution_count": null,
   "metadata": {},
   "outputs": [],
   "source": [
    "# Method of selecting samples for training each tree\n",
    "bootstrap = [True, False]\n",
    "# Criterion: just squared error beacuse it's much faster than the other options\n",
    "# Maximum number of levels in tree\n",
    "max_depth = [int(x) for x in np.linspace(10, 100, num = 10)]\n",
    "max_depth.append(None)\n",
    "# Number of features to consider at every split\n",
    "max_features = [1.0, 'sqrt', 'log2', None]\n",
    "# Minimum number of samples required at each leaf node\n",
    "min_samples_leaf = [1, 3, 5]\n",
    "# Minimum number of samples required to split a node\n",
    "min_samples_split = [2, 5, 10]\n",
    "# Number of trees in random forest\n",
    "n_estimators = [int(x) for x in np.linspace(start= 10, stop = 100, num = 10)]\n",
    "# Random state\n",
    "random_state = [int(x) for x in np.linspace(start= 0, stop = 100, num = 10)]\n",
    "\n",
    "\n",
    "# Create the random grid\n",
    "random_grid = {'bootstrap': bootstrap,\n",
    "               'max_depth': max_depth,\n",
    "               'max_features': max_features,\n",
    "               'min_samples_leaf': min_samples_leaf,\n",
    "               'min_samples_split': min_samples_split,\n",
    "               'n_estimators': n_estimators,\n",
    "               'random_state': random_state\n",
    "               }"
   ]
  },
  {
   "cell_type": "code",
   "execution_count": null,
   "metadata": {},
   "outputs": [],
   "source": [
    "# Use the random grid to search for best hyperparameters\n",
    "# First create the base model to tune\n",
    "rf = RandomForestRegressor()\n",
    "# Random search of parameters, using 3 fold cross validation, \n",
    "# search across 100 different combinations, and use all available cores\n",
    "rf_random = RandomizedSearchCV(estimator=rf, param_distributions= random_grid,\n",
    "                              n_iter = 100, cv = 3, verbose=3, random_state=0, n_jobs=-1)\n",
    "\n",
    "# Fit the random search model\n",
    "rf_random.fit(X_train, y_train)"
   ]
  },
  {
   "cell_type": "code",
   "execution_count": null,
   "metadata": {},
   "outputs": [],
   "source": [
    "print(\"Best Params: \", rf_random.best_params_)"
   ]
  },
  {
   "cell_type": "code",
   "execution_count": null,
   "metadata": {},
   "outputs": [],
   "source": [
    "def evaluate_model(model, X_test, y_test):\n",
    "    predictions = model.predict(X_test)\n",
    "    errors = [100 * (abs(predictions[i] - y_test[i])/ y_test[i]) for i in range(min(len(predictions), len(y_test)))]\n",
    "    count_good_predictions = sum(1 for i in errors if i <= 10)\n",
    "    good_predictions = round(np.mean(100 * (count_good_predictions / len(errors))), 2)\n",
    "    print('Percentage of predictions with less than 10 % deviation: ', good_predictions, '%.')"
   ]
  },
  {
   "cell_type": "code",
   "execution_count": null,
   "metadata": {},
   "outputs": [],
   "source": [
    "# Evaluating base model without Hyperparameter Tuning\n",
    "base_model = RandomForestRegressor(n_estimators = 10, random_state = 0)\n",
    "base_model.fit(X_train, y_train)\n",
    "evaluate_model(base_model, X_test, y_test)"
   ]
  },
  {
   "cell_type": "code",
   "execution_count": null,
   "metadata": {},
   "outputs": [],
   "source": [
    "# Evaluating model with Hyperparameter Tuning\n",
    "best_random = rf_random.best_estimator_\n",
    "evaluate_model(best_random, X_test, y_test)"
   ]
  }
 ],
 "metadata": {
  "kernelspec": {
   "display_name": "Python 3.9.13 64-bit",
   "language": "python",
   "name": "python3"
  },
  "language_info": {
   "name": "python",
   "version": "3.9.13"
  },
  "orig_nbformat": 4,
  "vscode": {
   "interpreter": {
    "hash": "2ee4b56c58f6d37e4778d9818fb4820583e8ad76b15ea0907f514be591be9833"
   }
  }
 },
 "nbformat": 4,
 "nbformat_minor": 2
}
