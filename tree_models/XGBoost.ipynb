{
 "cells": [
  {
   "cell_type": "code",
   "execution_count": 1,
   "metadata": {},
   "outputs": [],
   "source": [
    "# Imports\n",
    "import sys\n",
    "import pandas as pd\n",
    "import numpy as np\n",
    "import matplotlib.pyplot as plt\n",
    "from sklearn.model_selection import train_test_split\n",
    "from sklearn.model_selection import GridSearchCV\n",
    "from sklearn.model_selection import RandomizedSearchCV\n",
    "from xgboost import XGBRegressor\n",
    "\n",
    "import os\n",
    "import sys\n",
    "module_path = os.path.abspath(os.path.join(r'C:\\Users\\soube\\OneDrive\\Desktop\\Hammudi\\Bachelorarbeit\\Repository\\AP-rent-determination\\tree_models.py'))\n",
    "if module_path not in sys.path:\n",
    "    sys.path.append(module_path)\n",
    "\n",
    "from tree_model_functions import *\n",
    "\n",
    "pd.set_option('display.max_rows', None)\n",
    "pd.set_option('display.max_columns', None)"
   ]
  },
  {
   "cell_type": "code",
   "execution_count": 7,
   "metadata": {},
   "outputs": [
    {
     "name": "stdout",
     "output_type": "stream",
     "text": [
      "Memory usage of dataframe is 79.16 MB\n",
      "Memory usage after optimization is: 27.23 MB\n",
      "Decreased by 65.6%\n"
     ]
    }
   ],
   "source": [
    "# Selecting the DataSource\n",
    "dataSource = r\"C:\\Users\\soube\\OneDrive\\Desktop\\Hammudi\\Bachelorarbeit\\Repository\\AP-rent-determination\\students_data\\cleaned_data_conf_with_IQR_removal.csv\"\n",
    "\n",
    "# Selecting columns to drop out of featureList and creating LabelList\n",
    "featureDropList = [\"_id\", \"observationDate\", \"state\", \"city\", \"AP_community\", \"community_id\", \"base_rent\", \"qm2_rent\", \"DE_qm2_rent\"]\n",
    "LabelList = [\"qm2_rent\"]\n",
    "\n",
    "# Create DataFrame from DataSource\n",
    "try: \n",
    "    df = import_data(dataSource)\n",
    "except:\n",
    "    df = pd.read_csv(dataSource)\n",
    "\n",
    "\n",
    "# Create list of unique states\n",
    "states = df[\"state\"].unique()\n",
    "\n",
    "\n",
    "\n",
    "# Create list for most important features\n",
    "feature_importances = []\n",
    "\n",
    "for category in [\"postcode\"]:\n",
    "    df[category] = df[category].astype(\"category\")\n",
    "    df[category] = df[category].cat.codes\n",
    "    \n",
    "df.drop(df.filter(regex = \"second\"), axis = 1, inplace = True)\n",
    "df.drop(df.filter(regex = \"third\"), axis = 1, inplace = True)"
   ]
  },
  {
   "cell_type": "code",
   "execution_count": 20,
   "metadata": {},
   "outputs": [],
   "source": [
    "# Loop throug all states to train them seperately\n",
    "\n",
    "# Create list for model scores\n",
    "state_prediction_score = []\n",
    "\n",
    "for state in states:\n",
    "    df_state = df[df[\"state\"]  == state]\n",
    "\n",
    "    # Create feature and label lists\n",
    "    y = df_state[LabelList]\n",
    "    X = df_state.drop(featureDropList, axis = 1)\n",
    "    feature_list = list(X.columns)\n",
    "\n",
    "    y = np.array(y)\n",
    "    X = np.array(X)\n",
    "\n",
    "    # Train test split\n",
    "    X_train, X_test, y_train, y_test = train_test_split(X, y, test_size = 0.20, random_state = 0)\n",
    "\n",
    "    # Instantiate model\n",
    "    xgb = XGBRegressor(colsample_bytree= 0.8,eta= 0.1,gamma= 0,max_depth= 10,min_child_weight= 5,random_state= 0,subsample = 0.8)\n",
    "\n",
    "\n",
    "    # Train the model on training data\n",
    "    xgb.fit(X_train, y_train)\n",
    "\n",
    "    # Use the Regressors's predict method on the test data\n",
    "    predictions = xgb.predict(X_test)\n",
    "\n",
    "    # Calculate the absolute errors\n",
    "    errors = abs(predictions - y_test)\n",
    "\n",
    "    # Print out the mean absolute error (mae)\n",
    "    #print('Average model error:', round(np.mean(errors), 2), 'euros.')\n",
    "    \n",
    "    # Calculate relative prediction errors\n",
    "    errors = [100 * (abs(predictions[i] - y_test[i])/ y_test[i]) for i in range(min(len(predictions), len(y_test)))]\n",
    "\n",
    "    # Count of predictions that are at least 10% accurate\n",
    "    count_good_predictions = sum(1 for i in errors if i <= 10)\n",
    "\n",
    "    # Proportion of good predictions for the Testset\n",
    "    good_predictions = round(np.mean(100 * (count_good_predictions / len(errors))), 2)\n",
    "    #print('Percentage of predictions with less than 10 % deviation: ', good_predictions, '%.')\n",
    "\n",
    "    state_prediction_score.append([state, good_predictions, df_state.shape[0]])\n",
    "\n",
    "    # Get numerical feature importances\n",
    "    importances = list(xgb.feature_importances_)\n",
    "\n",
    "    # List of tuples with variable and importance\n",
    "    feature_importances_state = [(feature, round(importance, 3)) for feature, importance in zip(feature_list, importances)]\n",
    "    feature_importances = feature_importances + feature_importances_state"
   ]
  },
  {
   "cell_type": "code",
   "execution_count": 21,
   "metadata": {},
   "outputs": [
    {
     "name": "stdout",
     "output_type": "stream",
     "text": [
      "[['Schleswig-Holstein', 60.01, 2111], ['Bremen', 53.33, 642], ['Hessen', 59.8, 3440], ['Hamburg', 50.96, 2301], ['Thüringen', 64.0, 3265], ['Nordrhein-Westfalen', 61.97, 11216], ['Mecklenburg-Vorpommern', 66.67, 1971], ['Bayern', 58.6, 6131], ['Sachsen', 70.97, 15730], ['Brandenburg', 67.6, 1728], ['Berlin', 69.12, 1942], ['Saarland', 54.69, 365], ['Sachsen-Anhalt', 71.47, 6233], ['Baden-Württemberg', 53.59, 2985], ['Niedersachsen', 62.54, 3954], ['Rheinland-Pfalz', 58.46, 1241]]\n"
     ]
    }
   ],
   "source": [
    "print(state_prediction_score)"
   ]
  },
  {
   "cell_type": "code",
   "execution_count": 22,
   "metadata": {},
   "outputs": [
    {
     "name": "stdout",
     "output_type": "stream",
     "text": [
      "Model score : 61.48625 %\n"
     ]
    }
   ],
   "source": [
    "# Convert state_prediction_score list into DataFrame\n",
    "state_prediction_df = pd.DataFrame(state_prediction_score, columns = [\"state\", \"score\", \"inserates\"])\n",
    "# Calculate the average score of the model\n",
    "prediction_score = state_prediction_df[\"score\"].mean()\n",
    "print(\"Model score :\", prediction_score, \"%\")"
   ]
  },
  {
   "cell_type": "code",
   "execution_count": 23,
   "metadata": {},
   "outputs": [
    {
     "data": {
      "text/plain": [
       "64.22838234618037"
      ]
     },
     "execution_count": 23,
     "metadata": {},
     "output_type": "execute_result"
    }
   ],
   "source": [
    "# Weighted prediction score\n",
    "\n",
    "number_of_inserates = state_prediction_df[\"inserates\"].sum()\n",
    "\n",
    "state_prediction_df[\"weighted_score\"] = state_prediction_df[\"score\"] * state_prediction_df[\"inserates\"]\n",
    "\n",
    "prediction_score = state_prediction_df[\"weighted_score\"].sum() / number_of_inserates\n",
    "\n",
    "prediction_score"
   ]
  },
  {
   "cell_type": "code",
   "execution_count": 7,
   "metadata": {},
   "outputs": [
    {
     "data": {
      "text/plain": [
       "<seaborn.axisgrid.FacetGrid at 0x1222f4d54c0>"
      ]
     },
     "execution_count": 7,
     "metadata": {},
     "output_type": "execute_result"
    },
    {
     "data": {
      "image/png": "[encoded data removed]",
      "text/plain": [
       "<Figure size 558.75x500 with 1 Axes>"
      ]
     },
     "metadata": {},
     "output_type": "display_data"
    }
   ],
   "source": [
    "import seaborn as sns\n",
    "\n",
    "sns.displot(y_test)"
   ]
  },
  {
   "cell_type": "code",
   "execution_count": 8,
   "metadata": {},
   "outputs": [
    {
     "data": {
      "text/plain": [
       "<seaborn.axisgrid.FacetGrid at 0x1222ee0a490>"
      ]
     },
     "execution_count": 8,
     "metadata": {},
     "output_type": "execute_result"
    }
   ],
   "source": [
    "sns.displot(predictions)"
   ]
  },
  {
   "cell_type": "markdown",
   "metadata": {},
   "source": [
    "### Get rid of unnnecessary Variables ###"
   ]
  },
  {
   "cell_type": "code",
   "execution_count": 9,
   "metadata": {
    "tags": []
   },
   "outputs": [],
   "source": [
    "feature_importances_df = pd.DataFrame(feature_importances, columns = [\"Variable\", \"Importance\"])\n",
    "feature_importances_df[\"average_Importance\"] = feature_importances_df[\"Importance\"].groupby(feature_importances_df[\"Variable\"]).transform(\"mean\")\n",
    "# Get the mean Importances for every Variable\n",
    "mean_importances = feature_importances_df.groupby(\"Variable\")[\"Importance\"].mean()\n",
    "\n",
    "\n",
    "cols = [\"Variable\", \"average_Importance\"]\n",
    "mean_importances_list = feature_importances_df[cols].values.tolist()\n",
    "\n",
    "# Sort and kick out all repetitive values\n",
    "new_mean_importances_list = []\n",
    "for i in mean_importances_list:\n",
    "    if i not in new_mean_importances_list:\n",
    "        new_mean_importances_list.append(i)\n",
    "new_mean_importances_list = sorted(new_mean_importances_list, key = lambda x : x[1], reverse = True)\n",
    "\n",
    "total_importances = sum(x[1] for x in new_mean_importances_list)"
   ]
  },
  {
   "cell_type": "code",
   "execution_count": 19,
   "metadata": {},
   "outputs": [
    {
     "data": {
      "text/plain": [
       "0.9996875098950113"
      ]
     },
     "execution_count": 19,
     "metadata": {},
     "output_type": "execute_result"
    }
   ],
   "source": [
    "total_importances"
   ]
  },
  {
   "cell_type": "code",
   "execution_count": 10,
   "metadata": {},
   "outputs": [
    {
     "data": {
      "text/plain": [
       "Text(0.5, 1.0, 'Variable Importances')"
      ]
     },
     "execution_count": 10,
     "metadata": {},
     "output_type": "execute_result"
    }
   ],
   "source": [
    "# Reset style \n",
    "plt.style.use('fivethirtyeight')\n",
    "\n",
    "# list of x locations for plotting\n",
    "x_values = list(range(len(mean_importances)))\n",
    "\n",
    "# Make a bar chart\n",
    "plt.bar(x_values, mean_importances, orientation = 'vertical', color = 'r', edgecolor = 'k', linewidth = 1.2)\n",
    "\n",
    "# Tick labels for x axis\n",
    "plt.xticks(x_values, feature_list, rotation='vertical')\n",
    "\n",
    "# Axis labels and title\n",
    "plt.ylabel('Importance'); plt.xlabel('Variable'); plt.title('Variable Importances')"
   ]
  },
  {
   "cell_type": "code",
   "execution_count": 11,
   "metadata": {},
   "outputs": [
    {
     "data": {
      "text/plain": [
       "Text(0.5, 1.0, 'Cumulative Importances')"
      ]
     },
     "execution_count": 11,
     "metadata": {},
     "output_type": "execute_result"
    }
   ],
   "source": [
    "# List of features sorted from most to least important\n",
    "sorted_importances = [importance[1] for importance in new_mean_importances_list]\n",
    "sorted_features = [importance[0] for importance in new_mean_importances_list]\n",
    "\n",
    "# Cumulative importances\n",
    "cumulative_importances = np.cumsum(sorted_importances)\n",
    "\n",
    "# Make a line graph\n",
    "plt.plot(x_values, cumulative_importances, 'g-')\n",
    "\n",
    "# Draw line at 90% of importance retained\n",
    "plt.hlines(y = 0.90, xmin=0, xmax=len(sorted_importances), color = 'r', linestyles = 'dashed')\n",
    "\n",
    "# Format x ticks and labels\n",
    "plt.xticks(x_values, sorted_features, rotation = 'vertical')\n",
    "\n",
    "# Axis labels and title\n",
    "plt.xlabel('Variable'); plt.ylabel('Cumulative Importance'); plt.title('Cumulative Importances')"
   ]
  },
  {
   "cell_type": "code",
   "execution_count": 28,
   "metadata": {},
   "outputs": [
    {
     "name": "stdout",
     "output_type": "stream",
     "text": [
      "Number of features for 90% importance: 83\n"
     ]
    }
   ],
   "source": [
    "# Find number of features for cumulative importance of 90%\n",
    "# Add 1 because Python is zero-indexed\n",
    "num_of_important_features = np.where(cumulative_importances > 0.9996875)[0][0] + 1\n",
    "print('Number of features for 90% importance:', num_of_important_features)"
   ]
  },
  {
   "cell_type": "code",
   "execution_count": 29,
   "metadata": {},
   "outputs": [],
   "source": [
    "#List with most important features\n",
    "new_mean_importances_list = new_mean_importances_list[:num_of_important_features]\n",
    "\n",
    "#List with most important features without importances\n",
    "new_mean_importances_list_names = [item[0] for item in new_mean_importances_list]"
   ]
  },
  {
   "cell_type": "code",
   "execution_count": 30,
   "metadata": {},
   "outputs": [],
   "source": [
    "# Loop throug all states to train them seperately\n",
    "\n",
    "# Create list for model scores\n",
    "state_prediction_score_imp = []\n",
    "\n",
    "for state in states:\n",
    "    df_state = df[df[\"state\"]  == state]\n",
    "\n",
    "    # Create feature and label lists\n",
    "    y = df_state[LabelList]\n",
    "    X = df_state[new_mean_importances_list_names]\n",
    "\n",
    "    y = np.array(y)\n",
    "    X = np.array(X)\n",
    "\n",
    "    # Train test split\n",
    "    important_X_train, important_X_test, y_train, y_test = train_test_split(X, y, test_size = 0.20, random_state = 0)\n",
    "\n",
    "    # Instantiate model\n",
    "    xgb = XGBRegressor(colsample_bytree= 0.8,eta= 0.1,gamma= 0,max_depth= 10,min_child_weight= 5,random_state= 0,subsample = 0.8)\n",
    "\n",
    "\n",
    "    # Train the model on training data\n",
    "    xgb.fit(important_X_train, y_train)\n",
    "\n",
    "    # Use the Regressors's predict method on the test data\n",
    "    predictions = xgb.predict(important_X_test)\n",
    "    \n",
    "    # Calculate relative prediction errors\n",
    "    errors = [100 * (abs(predictions[i] - y_test[i])/ y_test[i]) for i in range(min(len(predictions), len(y_test)))]\n",
    "\n",
    "    # Count of predictions that are at least 10% accurate\n",
    "    count_good_predictions = sum(1 for i in errors if i <= 10)\n",
    "\n",
    "    # Proportion of good predictions for the Testset\n",
    "    good_predictions = round(np.mean(100 * (count_good_predictions / len(errors))), 2)\n",
    "    #print('Percentage of predictions with less than 10 % deviation: ', good_predictions, '%.')\n",
    "\n",
    "    state_prediction_score_imp.append([state, good_predictions, df_state.shape[0]])"
   ]
  },
  {
   "cell_type": "code",
   "execution_count": 31,
   "metadata": {},
   "outputs": [
    {
     "name": "stdout",
     "output_type": "stream",
     "text": [
      "[['Schleswig-Holstein', 73.52, 65255], ['Bremen', 74.42, 65255], ['Hessen', 70.64, 65255], ['Hamburg', 67.9, 65255], ['Thüringen', 74.73, 65255], ['Nordrhein-Westfalen', 69.25, 65255], ['Mecklenburg-Vorpommern', 77.72, 65255], ['Bayern', 66.99, 65255], ['Sachsen', 77.05, 65255], ['Brandenburg', 75.14, 65255], ['Berlin', 73.26, 65255], ['Saarland', 57.53, 65255], ['Sachsen-Anhalt', 79.39, 65255], ['Baden-Württemberg', 59.3, 65255], ['Niedersachsen', 73.45, 65255], ['Rheinland-Pfalz', 70.68, 65255]]\n"
     ]
    }
   ],
   "source": [
    "print(state_prediction_score_imp)"
   ]
  },
  {
   "cell_type": "code",
   "execution_count": 32,
   "metadata": {},
   "outputs": [
    {
     "name": "stdout",
     "output_type": "stream",
     "text": [
      "Model score : 71.310625 %\n"
     ]
    }
   ],
   "source": [
    "# Convert state_prediction_score list into DataFrame\n",
    "state_prediction_df = pd.DataFrame(state_prediction_score_imp, columns = [\"state\", \"score\", \"inserates\"])\n",
    "# Calculate the average score of the model\n",
    "prediction_score_imp = state_prediction_df[\"score\"].mean()\n",
    "print(\"Model score :\", prediction_score_imp, \"%\")"
   ]
  },
  {
   "cell_type": "code",
   "execution_count": 33,
   "metadata": {},
   "outputs": [
    {
     "data": {
      "text/plain": [
       "71.31062499999999"
      ]
     },
     "execution_count": 33,
     "metadata": {},
     "output_type": "execute_result"
    }
   ],
   "source": [
    "# Weighted prediction score\n",
    "\n",
    "number_of_inserates = state_prediction_df[\"inserates\"].sum()\n",
    "\n",
    "state_prediction_df[\"weighted_score\"] = state_prediction_df[\"score\"] * state_prediction_df[\"inserates\"]\n",
    "\n",
    "prediction_score_imp = state_prediction_df[\"weighted_score\"].sum() / number_of_inserates\n",
    "\n",
    "prediction_score_imp"
   ]
  },
  {
   "cell_type": "code",
   "execution_count": 18,
   "metadata": {},
   "outputs": [],
   "source": [
    "with open(r'C:\\Users\\soube\\OneDrive\\Desktop\\Hammudi\\Bachelorarbeit\\Repository\\AP-rent-determination\\tree_models_notes\\xgboost_scores.txt', 'w') as f:\n",
    "    f.write(\"Hyperparameters:\")\n",
    "    f.write('\\n')\n",
    "    params = repr(xgb.get_params())\n",
    "    f.write(params)\n",
    "    f.write('\\n')\n",
    "    f.write('\\n')\n",
    "    f.write(\"Model score with all features:\")\n",
    "    f.write('\\n')\n",
    "    state_prediction_score = repr(state_prediction_score)\n",
    "    f.write(state_prediction_score)\n",
    "    f.write('\\n')\n",
    "    prediction_score = repr(prediction_score)\n",
    "    f.write(prediction_score)\n",
    "    f.write('\\n')\n",
    "    f.write('\\n')\n",
    "    f.write(\"Model score with important features:\")\n",
    "    f.write('\\n')\n",
    "    state_prediction_score = repr(state_prediction_score_imp)\n",
    "    f.write(state_prediction_score)\n",
    "    f.write('\\n')\n",
    "    prediction_score = repr(prediction_score_imp)\n",
    "    f.write(prediction_score)"
   ]
  }
 ],
 "metadata": {
  "kernelspec": {
   "display_name": "Python 3.9.13 64-bit",
   "language": "python",
   "name": "python3"
  },
  "language_info": {
   "codemirror_mode": {
    "name": "ipython",
    "version": 3
   },
   "file_extension": ".py",
   "mimetype": "text/x-python",
   "name": "python",
   "nbconvert_exporter": "python",
   "pygments_lexer": "ipython3",
   "version": "3.9.13 (tags/v3.9.13:6de2ca5, May 17 2022, 16:36:42) [MSC v.1929 64 bit (AMD64)]"
  },
  "orig_nbformat": 4,
  "vscode": {
   "interpreter": {
    "hash": "2ee4b56c58f6d37e4778d9818fb4820583e8ad76b15ea0907f514be591be9833"
   }
  }
 },
 "nbformat": 4,
 "nbformat_minor": 2
}
